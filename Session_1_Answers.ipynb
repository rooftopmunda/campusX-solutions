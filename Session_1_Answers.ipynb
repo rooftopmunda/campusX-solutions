{
  "nbformat": 4,
  "nbformat_minor": 0,
  "metadata": {
    "colab": {
      "provenance": [],
      "authorship_tag": "ABX9TyN5FnLpurvXeBz79r4fzjGy",
      "include_colab_link": true
    },
    "kernelspec": {
      "name": "python3",
      "display_name": "Python 3"
    },
    "language_info": {
      "name": "python"
    }
  },
  "cells": [
    {
      "cell_type": "markdown",
      "metadata": {
        "id": "view-in-github",
        "colab_type": "text"
      },
      "source": [
        "<a href=\"https://colab.research.google.com/github/rooftopmunda/campusX-solutions/blob/main/Session_1_Answers.ipynb\" target=\"_parent\"><img src=\"https://colab.research.google.com/assets/colab-badge.svg\" alt=\"Open In Colab\"/></a>"
      ]
    },
    {
      "cell_type": "code",
      "source": [
        "print(\"Data\",\"Science\",\"Mentorship\",\"Program\", sep='-', end = \"-started-\")\n",
        "print(\"By\",\"CampusX\", sep='-')"
      ],
      "metadata": {
        "id": "3vqtsx0TyqhL"
      },
      "execution_count": null,
      "outputs": []
    },
    {
      "cell_type": "markdown",
      "source": [
        "In Python, sep is a parameter used with the print() function to define the separator between values when printing multiple items. It allows you to customize how values are separated in the output, with the default separator being a space character. You can change the separator by providing a different string as the sep argument."
      ],
      "metadata": {
        "id": "nCUadtMV5N8B"
      }
    },
    {
      "cell_type": "code",
      "source": [
        "cel = int(input(\"Enter celsius value: \"))\n",
        "convert = cel * (9/5) + 32\n",
        "print(f\"{cel}°C to Fareheit is: {convert}°F\")"
      ],
      "metadata": {
        "id": "OyohsYD45Oxh"
      },
      "execution_count": null,
      "outputs": []
    },
    {
      "cell_type": "code",
      "source": [
        "a = input(\"Enter a number\")\n",
        "b = input(\"Enter another number\")\n",
        "\n",
        "print(a,b)\n",
        "c = a\n",
        "a = b\n",
        "b = c\n",
        "print(a,b)"
      ],
      "metadata": {
        "id": "M7TC_NGj55DA"
      },
      "execution_count": null,
      "outputs": []
    },
    {
      "cell_type": "code",
      "source": [
        "principle = float(input(\"Enter principle amount: \"))\n",
        "roi = float(input(\"Enter rate of interest(in decimal): \"))\n",
        "time = float(input(\"Enter time period in years: \"))\n",
        "\n",
        "SI = principle * roi * time / 100\n",
        "print(\"The interest is\", SI)"
      ],
      "metadata": {
        "id": "9ruLrU_V61NZ"
      },
      "execution_count": null,
      "outputs": []
    },
    {
      "cell_type": "code",
      "source": [
        "total_heads = int(input(\"Enter the number of total heads: \"))\n",
        "total_legs = int(input(\"Enter the number of total legs: \"))\n",
        "\n",
        "d = (total_legs - 2 * total_heads) / 2\n",
        "\n",
        "c = total_heads - d\n",
        "\n",
        "if d >= 0 and c >= 0 and d.is_integer() and c.is_integer():\n",
        "  d = int(d)\n",
        "  c = int(c)\n",
        "  print(f\"Number of dogs: {d}\")\n",
        "  print(f\"Number of Chickens: {c}\")\n",
        "else:\n",
        "  print(\"Invalid Input\")"
      ],
      "metadata": {
        "id": "yInKeQGI8ezi"
      },
      "execution_count": null,
      "outputs": []
    },
    {
      "cell_type": "markdown",
      "source": [
        "let d = number of dogs\n",
        "let c = number of chickens\n",
        "\n",
        "total_heads = d + c (because both have 1 head)\n",
        "\n",
        "total_legs = 4d + 2c (because 1 dog has 4 legs and 1 chicken has 2 legs)\n",
        "\n",
        "Orignal Equation:\n",
        "\n",
        "d + c = Total number of heads\n",
        "4d + 2c = Total number of legs\n",
        "\n",
        "##### Multiply the first equation by 2 so that we can eliminate one fo the variables.\n",
        "\n",
        "2d + 2c = 2 * total_number_of_heads\n",
        "\n",
        "###### Subtract the modified first equation by second\n",
        "\n",
        "4d + 2c - (2d + 2c) = total_legs - 2 * total_heads\n",
        "\n",
        "##### Simplified\n",
        "\n",
        "4d - 2d = total_legs - 2 * total_heads\n",
        "\n",
        "2d = total_legs - 2 * total_heads\n",
        "\n",
        "___\n",
        "##### Formula\n",
        "\n",
        "d = (total_legs - 2 * total_heads) / 2\n",
        "\n",
        "c = total_heads - d\n",
        "\n"
      ],
      "metadata": {
        "id": "NoeMso3wCKVN"
      }
    },
    {
      "cell_type": "code",
      "source": [
        "n = int(input(\"Enter a positive integer n: \"))\n",
        "\n",
        "if n <= 0:\n",
        "  print(\"Enter a poisitve integer: \")\n",
        "else:\n",
        "  result = (n * (n + 1) * (2 * n + 1)) / 6\n",
        "  print(f'The reuslt is: {result}')"
      ],
      "metadata": {
        "id": "JEkoOLygVtQ0"
      },
      "execution_count": null,
      "outputs": []
    },
    {
      "cell_type": "code",
      "source": [
        "a = int(input(\"Enter the the first term in the sequence: \"))\n",
        "t2 = int(input(\"Enter the the second term in the sequence: \"))\n",
        "n = int(input(\"Enter the Nth term: \"))\n",
        "\n",
        "d = t2 - a\n",
        "result = a + (n-1) * d\n",
        "print(f'The Nth Term in the sequence is: {result}')\n"
      ],
      "metadata": {
        "id": "EkVaVBW3YHDZ"
      },
      "execution_count": null,
      "outputs": []
    },
    {
      "cell_type": "code",
      "source": [
        "nF1 = int(input(\"Enter the numerator of the first fraction: \"))\n",
        "dF1 = int(input(\"Enter the denominator of the first fraction: \"))\n",
        "nF2 = int(input(\"Enter the numerator of the second fraction: \"))\n",
        "dF2 = int(input(\"Enter the numerator of the second fraction: \"))\n",
        "\n",
        "n_result = (dF2 * nF1) + (dF1 * nF2)\n",
        "d_result = dF1 * dF2\n",
        "\n",
        "print(\"Result: {}/{}\".format(n_result,d_result))"
      ],
      "metadata": {
        "id": "0_5F8a82a3x6"
      },
      "execution_count": null,
      "outputs": []
    },
    {
      "cell_type": "code",
      "source": [
        "import math\n",
        "\n",
        "h_t = float(input(\"Height: \"))\n",
        "b_t = float(input(\"Breadht: \"))\n",
        "l_t = float(input(\"Lenght: \"))\n",
        "\n",
        "h_g = float(input(\"Height of Glass: \"))\n",
        "r_g = float(input(\"Radius of Glass: \"))\n",
        "\n",
        "v_tank = h_t * b_t * l_t\n",
        "v_glass = 3.14 * (r_g)**2 * h_g\n",
        "\n",
        "print(f\"Number of glasses: \", math.floor(v_tank/v_glass))"
      ],
      "metadata": {
        "id": "g6HvQrYjcK52"
      },
      "execution_count": null,
      "outputs": []
    }
  ]
}